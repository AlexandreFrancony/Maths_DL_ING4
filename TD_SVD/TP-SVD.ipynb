{
 "cells": [
  {
   "attachments": {},
   "cell_type": "markdown",
   "metadata": {},
   "source": [
    "# Lab Session I: Matrix Approximation using SVD\n",
    "\n",
    "You can make teams of 2 persons for this lab session. (En binôme)\n",
    "\n",
    "In this Lab session, you will learn the utilisation of SVD, especially with low rank SVD. The following libraries are necessary (not only for this session):\n",
    "* Numpy: a library for matrix manipulation\n",
    "* Pandas: a library for data manipulation and management\n",
    "* matplotlib: a poupular library for a visulisation\n",
    "* Scipy: a library for scitific math \n",
    "* Scikit-learn: a popular library for machine learning \n",
    "\n",
    "You can install the environment through package and environment management systems, such as Anaconda(https://www.anaconda.com/),\n",
    "or directly use online environment, such as Google Colab (https://colab.research.google.com/)\n",
    "Use Python > 3.5 for some coding featues.\n",
    "\n"
   ]
  },
  {
   "attachments": {},
   "cell_type": "markdown",
   "metadata": {},
   "source": [
    "## 1. Construct of SVD: Get started with matrix manipulation\n",
    "\n",
    "To learn using python for matrix manipulation, we firstly start with a simple utilisation with analytic SVD calculating. Complete the following skeleton. \n",
    "\n",
    "Let's start with a simple example:"
   ]
  },
  {
   "cell_type": "code",
   "execution_count": 7,
   "metadata": {},
   "outputs": [],
   "source": [
    "import numpy as np\n",
    "\n",
    "# Given a matrix A, calculate its SVD in an analytic way.\n",
    "# The skeleton given below is in the form of method. You can also do it step by step as a sequential script firstly, \n",
    "# then integrate them into a method after every step returns wanted result.\n",
    "# Start with a specific example: \n",
    "\n",
    "A = np.vstack([[1,0,1],[-2,1,0]])\n"
   ]
  },
  {
   "cell_type": "markdown",
   "metadata": {},
   "source": [
    "Get the dimension m and n of the matrix A, with attribute \"shape\" (https://numpy.org/doc/stable/reference/generated/numpy.ndarray.shape.html)"
   ]
  },
  {
   "cell_type": "code",
   "execution_count": 8,
   "metadata": {},
   "outputs": [],
   "source": [
    "m, n = A.shape"
   ]
  },
  {
   "cell_type": "markdown",
   "metadata": {},
   "source": [
    "Construct a symmetric matric ATA by multiplying A and A transpose. Refer to the manual for linear algebra operations (https://numpy.org/doc/stable/reference/routines.linalg.html)\n"
   ]
  },
  {
   "cell_type": "code",
   "execution_count": 9,
   "metadata": {},
   "outputs": [],
   "source": [
    "ATA = np.dot(A.T, A)"
   ]
  },
  {
   "cell_type": "markdown",
   "metadata": {},
   "source": [
    "Find the eigenvalues and eigenvectors of the matrix ATA by method numpy.linalg.eig(). (https://numpy.org/doc/stable/reference/generated/numpy.linalg.eig.html#numpy.linalg.eig)\n"
   ]
  },
  {
   "cell_type": "code",
   "execution_count": 10,
   "metadata": {},
   "outputs": [],
   "source": [
    "vals, vecs = np.linalg.eig(ATA)"
   ]
  },
  {
   "cell_type": "markdown",
   "metadata": {},
   "source": [
    "Reorder the eigenvalues in a decreasing way, put the values into a diagonal matrix D by multiplying with an identity matrix.\n",
    "Reorder the eigenvectors corresponding to the eigenvalues, in order to compose the matrix P in the eigen decomposition of ATA\n",
    "\n",
    "Hint 1: Use np.argsort(vals) to get the order index of each eigen value. Then, reorder the eigenvalues and eigenvectors with this index. \n",
    "(This is a trivial process. Take your time with reflexion.)\n",
    "\n",
    "Hint 2: Use np.eye(n) to generate an identity matrix with size n.\n",
    "\n",
    "Hint 3: Use np.vstack(tup) and np.hstack(tup) to stack a tuple of arrays (tup) vertically and horizentally. See examples in https://numpy.org/doc/stable/reference/generated/numpy.vstack.html"
   ]
  },
  {
   "cell_type": "code",
   "execution_count": 11,
   "metadata": {},
   "outputs": [],
   "source": [
    "sort_index = np.argsort(vals)[::-1]  # Sort in descending order\n",
    "\n",
    "# Reorder the eigenvalues and eigenvectors\n",
    "vals_sorted = vals[sort_index]\n",
    "vecs_sorted = vecs[:, sort_index]\n",
    "\n",
    "# Create the diagonal matrix D\n",
    "D = np.diag(vals_sorted)\n",
    "\n",
    "# Compose the matrix P\n",
    "P = vecs_sorted\n",
    "\n",
    "# V is equivalent to P transpose\n",
    "V = P.copy()"
   ]
  },
  {
   "cell_type": "markdown",
   "metadata": {},
   "source": [
    "Construct Matrix Sigma from the square root of D, with padded 0's to match shape of A. You can use np.vstack() or np.hstack() to pad the matrix"
   ]
  },
  {
   "cell_type": "code",
   "execution_count": 13,
   "metadata": {},
   "outputs": [],
   "source": [
    "Sigma = np.zeros((m, n))\n",
    "Sigma[:min(m, n), :min(m, n)] = np.sqrt(np.maximum(D[:min(m, n), :min(m, n)], 0))  # Take the square root of D, ensuring non-negative values\n"
   ]
  },
  {
   "cell_type": "markdown",
   "metadata": {},
   "source": [
    "Now you have matrix V, which is equivalent to P transpose. You have matrix Sigma. There is only matrix U left to calculate.\n",
    "\n",
    "(You can do that in an iterative way)"
   ]
  },
  {
   "cell_type": "code",
   "execution_count": 18,
   "metadata": {},
   "outputs": [
    {
     "name": "stdout",
     "output_type": "stream",
     "text": [
      "[[ 0.4472136   0.89442719]\n",
      " [-0.89442719  0.4472136 ]]\n"
     ]
    }
   ],
   "source": [
    "# Calculate U iteratively\n",
    "U = np.zeros((m, m))\n",
    "for i in range(m):\n",
    "    U[:, i] = np.dot(A, V[:, i]) / Sigma[i, i]\n",
    "\n",
    "print(U)"
   ]
  },
  {
   "cell_type": "markdown",
   "metadata": {},
   "source": [
    "Write your calculation in a method. Be careful, you need to adapt your method to matrix with any dimensions."
   ]
  },
  {
   "cell_type": "code",
   "execution_count": 19,
   "metadata": {},
   "outputs": [],
   "source": [
    "def SVD_analytic(A):\n",
    "    \"\"\"Calculating SVD in analytic way\n",
    "    Args: \n",
    "        A: ndarray, matrix to be decomposed\n",
    "    Returns:\n",
    "        (U, Sig, VT): tuple of three ndarrays. Representing the three matrix U Sigma and V transpose in SVD.\n",
    "    \"\"\"\n",
    "    # Get the dimensions of A\n",
    "    m, n = A.shape\n",
    "    \n",
    "    # Construct ATA\n",
    "    ATA = np.dot(A.T, A)\n",
    "    \n",
    "    # Find the eigenvalues and eigenvectors of ATA\n",
    "    vals, vecs = np.linalg.eig(ATA)\n",
    "    \n",
    "    # Reorder the eigenvalues and eigenvectors\n",
    "    sort_index = np.argsort(vals)[::-1]  # Sort in descending order\n",
    "    vals_sorted = vals[sort_index]\n",
    "    vecs_sorted = vecs[:, sort_index]\n",
    "    \n",
    "    # Create the diagonal matrix D\n",
    "    D = np.diag(vals_sorted)\n",
    "    \n",
    "    # Compose the matrix P\n",
    "    P = vecs_sorted\n",
    "    \n",
    "    # V is equivalent to P transpose\n",
    "    V = P.copy()\n",
    "    \n",
    "    # Construct Matrix Sigma from the square root of D, with padded 0's to match shape of A\n",
    "    Sigma = np.zeros((m, n))\n",
    "    Sigma[:min(m, n), :min(m, n)] = np.sqrt(np.maximum(D[:min(m, n), :min(m, n)], 0))  # Take the square root of D, ensuring non-negative values\n",
    "    \n",
    "    # Calculate U iteratively\n",
    "    U = np.zeros((m, m))\n",
    "    for i in range(m):\n",
    "        U[:, i] = np.dot(A, V[:, i]) / Sigma[i, i]\n",
    "    \n",
    "    return (U, Sigma, V.T)"
   ]
  },
  {
   "cell_type": "code",
   "execution_count": 20,
   "metadata": {},
   "outputs": [
    {
     "name": "stdout",
     "output_type": "stream",
     "text": [
      "[[ 1  0  1]\n",
      " [-2  1  0]]\n",
      "[[ 1.00000000e+00 -4.29162278e-17  1.00000000e+00]\n",
      " [-2.00000000e+00  1.00000000e+00 -4.29162278e-17]]\n"
     ]
    }
   ],
   "source": [
    "# To verify that your answer is correct. Print some simple Matrix and see the multiplication of their SVD components\n",
    "A = np.vstack([[1,0,1],[-2,1,0]])\n",
    "print(A)\n",
    "U, S, VT = SVD_analytic(A)\n",
    "print(U@S@VT)"
   ]
  },
  {
   "cell_type": "code",
   "execution_count": 22,
   "metadata": {},
   "outputs": [
    {
     "name": "stdout",
     "output_type": "stream",
     "text": [
      "U from np.linalg.svd():\n",
      " [[-0.4472136   0.89442719]\n",
      " [ 0.89442719  0.4472136 ]]\n",
      "Sigma from np.linalg.svd():\n",
      " [2.44948974 1.        ]\n",
      "V from np.linalg.svd():\n",
      " [[-9.12870929e-01  3.65148372e-01 -1.82574186e-01]\n",
      " [-3.73536832e-16  4.47213595e-01  8.94427191e-01]\n",
      " [-4.08248290e-01 -8.16496581e-01  4.08248290e-01]]\n",
      "U approximately equal: False\n",
      "Sigma approximately equal: True\n",
      "V approximately equal: False\n"
     ]
    }
   ],
   "source": [
    "# You can verify your solution with SVD implemented in Numpy, with the function np.linalg.svd()\n",
    "\n",
    "U_, S_, V_ = np.linalg.svd(A)\n",
    "\n",
    "# Noting that the results are usually obtained by approximation, you will not get precisely equivalent values from different methods. \n",
    "# To compare if two matrices A and B are approximately equivalent, use method np.allclose(A,B) (https://numpy.org/doc/stable/reference/generated/numpy.allclose.html)\n",
    "\n",
    "print(\"U from np.linalg.svd():\\n\", U_)\n",
    "print(\"Sigma from np.linalg.svd():\\n\", S_)\n",
    "print(\"V from np.linalg.svd():\\n\", V_)\n",
    "\n",
    "# Check if the matrices are approximately equal\n",
    "print(\"U approximately equal:\", np.allclose(U, U_))\n",
    "\n",
    "# Pad np.diag(S_) with zeros to match the shape of Sigma\n",
    "Sigma_ = np.zeros_like(Sigma)\n",
    "Sigma_[:min(Sigma.shape), :min(Sigma.shape)] = np.diag(S_)\n",
    "\n",
    "print(\"Sigma approximately equal:\", np.allclose(Sigma, Sigma_))\n",
    "print(\"V approximately equal:\", np.allclose(V.T, V_))\n"
   ]
  },
  {
   "attachments": {},
   "cell_type": "markdown",
   "metadata": {},
   "source": [
    "Now you have some basic notions on matrix manipulation with Python. Let's do some more advanced exercises with SVD."
   ]
  },
  {
   "attachments": {},
   "cell_type": "markdown",
   "metadata": {},
   "source": [
    "## 2. Data compression with truncated SVD\n",
    "\n",
    "Images are made up by pixels, which are essentially matrix. We will see how low rank SVD compresses an image.\n",
    "A colorful image is usually represented by three matrix, respectively containing the color information of Red Green and Blue (RGB).\n",
    "To simplify the data processing, monochrome image with greyscale is usually applied, represented by a single matrix.\n",
    "\n",
    "To run the programme, you should put the image file at the same directory with this notebook.\n",
    "If you are using Google Colab, put the image file at the root directory of your Colab project."
   ]
  },
  {
   "cell_type": "code",
   "execution_count": 26,
   "metadata": {},
   "outputs": [],
   "source": [
    "from matplotlib import image\n",
    "import numpy as np\n",
    "import matplotlib.pyplot as plt\n",
    "\n",
    "# A function converting RBG to monochrone image.\n",
    "img = image.imread(\"mona_lisa.jpg\")\n"
   ]
  },
  {
   "attachments": {},
   "cell_type": "markdown",
   "metadata": {},
   "source": [
    "Now we illustrate the singuler values on each rank, and the information restrained with different number of rank.\n",
    "The singuler values should be sorted in a descdent way, denoted by $S$ (the output of method np.linalg.svd() is in a such form by default.)\n",
    "Given a rank $r$, the information restrained $IR$ is calculated by the cumulative sum of the singular values, represented by percentage. i.e.\n",
    "$$\n",
    "IR_r = \\sum_{i=1}^{i=r}S[i] \\times 100\\%\n",
    "$$"
   ]
  },
  {
   "cell_type": "code",
   "execution_count": 27,
   "metadata": {},
   "outputs": [],
   "source": [
    "total_S = S.sum() # Used to calculate the percentage of cumulative sum\n",
    "n_components = len(S) # The number of all possible ranks (full rank)\n",
    "component_idx = range(1,  n_components + 1) # This variable is used for plotting\n",
    "# 4. Implement the equation above to calculate retained information. \n",
    "# info_retained should be a 1D-array with the size of n_components\n",
    "# hint: use method np.cumsum() https://numpy.org/doc/stable/reference/generated/numpy.cumsum.html\n",
    "info_retained = np.cumsum(S) / total_S * 100"
   ]
  },
  {
   "attachments": {},
   "cell_type": "markdown",
   "metadata": {},
   "source": [
    "The codes below serve to illustrate the original image, singular values for each rank , as well as the cumulative percentage of information carried by singular vectors corresponding to different rank. \n",
    "You don't need to implement anything, but you must understand the everyline of the code, and then give your observations and remarks in a markdown block."
   ]
  },
  {
   "cell_type": "code",
   "execution_count": 30,
   "metadata": {},
   "outputs": [
    {
     "name": "stderr",
     "output_type": "stream",
     "text": [
      "<>:12: SyntaxWarning: invalid escape sequence '\\l'\n",
      "<>:12: SyntaxWarning: invalid escape sequence '\\l'\n",
      "C:\\Users\\Alex\\AppData\\Local\\Temp\\ipykernel_10192\\965688076.py:12: SyntaxWarning: invalid escape sequence '\\l'\n",
      "  plt.ylabel('$\\log(S_k)$\\n', color='red', rotation=270)\n",
      "C:\\Users\\Alex\\AppData\\Local\\Temp\\ipykernel_10192\\965688076.py:11: RuntimeWarning: divide by zero encountered in log\n",
      "  twax.plot(component_idx, np.log(S), color='red', linewidth=3)\n"
     ]
    },
    {
     "ename": "ValueError",
     "evalue": "x and y must have same first dimension, but have shapes (2,) and (6,)",
     "output_type": "error",
     "traceback": [
      "\u001b[1;31m---------------------------------------------------------------------------\u001b[0m",
      "\u001b[1;31mValueError\u001b[0m                                Traceback (most recent call last)",
      "Cell \u001b[1;32mIn[30], line 18\u001b[0m\n\u001b[0;32m     16\u001b[0m \u001b[38;5;66;03m## Information retained as function of rank\u001b[39;00m\n\u001b[0;32m     17\u001b[0m plt\u001b[38;5;241m.\u001b[39msca(axs[\u001b[38;5;241m2\u001b[39m])\n\u001b[1;32m---> 18\u001b[0m \u001b[43mplt\u001b[49m\u001b[38;5;241;43m.\u001b[39;49m\u001b[43mplot\u001b[49m\u001b[43m(\u001b[49m\u001b[43mcomponent_idx\u001b[49m\u001b[43m,\u001b[49m\u001b[43m \u001b[49m\u001b[43minfo_retained\u001b[49m\u001b[43m,\u001b[49m\u001b[43m \u001b[49m\u001b[43mcolor\u001b[49m\u001b[38;5;241;43m=\u001b[39;49m\u001b[38;5;124;43m'\u001b[39;49m\u001b[38;5;124;43mdarkgreen\u001b[39;49m\u001b[38;5;124;43m'\u001b[39;49m\u001b[43m,\u001b[49m\u001b[43m \u001b[49m\u001b[43mlinewidth\u001b[49m\u001b[38;5;241;43m=\u001b[39;49m\u001b[38;5;241;43m3\u001b[39;49m\u001b[43m)\u001b[49m\n\u001b[0;32m     19\u001b[0m plt\u001b[38;5;241m.\u001b[39mxlim(\u001b[38;5;241m0\u001b[39m, n_components)\n\u001b[0;32m     20\u001b[0m plt\u001b[38;5;241m.\u001b[39mylim([\u001b[38;5;241m0\u001b[39m, \u001b[38;5;241m105\u001b[39m])\n",
      "File \u001b[1;32mc:\\Users\\Alex\\AppData\\Local\\Programs\\Python\\Python312\\Lib\\site-packages\\matplotlib\\pyplot.py:3578\u001b[0m, in \u001b[0;36mplot\u001b[1;34m(scalex, scaley, data, *args, **kwargs)\u001b[0m\n\u001b[0;32m   3570\u001b[0m \u001b[38;5;129m@_copy_docstring_and_deprecators\u001b[39m(Axes\u001b[38;5;241m.\u001b[39mplot)\n\u001b[0;32m   3571\u001b[0m \u001b[38;5;28;01mdef\u001b[39;00m \u001b[38;5;21mplot\u001b[39m(\n\u001b[0;32m   3572\u001b[0m     \u001b[38;5;241m*\u001b[39margs: \u001b[38;5;28mfloat\u001b[39m \u001b[38;5;241m|\u001b[39m ArrayLike \u001b[38;5;241m|\u001b[39m \u001b[38;5;28mstr\u001b[39m,\n\u001b[1;32m   (...)\u001b[0m\n\u001b[0;32m   3576\u001b[0m     \u001b[38;5;241m*\u001b[39m\u001b[38;5;241m*\u001b[39mkwargs,\n\u001b[0;32m   3577\u001b[0m ) \u001b[38;5;241m-\u001b[39m\u001b[38;5;241m>\u001b[39m \u001b[38;5;28mlist\u001b[39m[Line2D]:\n\u001b[1;32m-> 3578\u001b[0m     \u001b[38;5;28;01mreturn\u001b[39;00m \u001b[43mgca\u001b[49m\u001b[43m(\u001b[49m\u001b[43m)\u001b[49m\u001b[38;5;241;43m.\u001b[39;49m\u001b[43mplot\u001b[49m\u001b[43m(\u001b[49m\n\u001b[0;32m   3579\u001b[0m \u001b[43m        \u001b[49m\u001b[38;5;241;43m*\u001b[39;49m\u001b[43margs\u001b[49m\u001b[43m,\u001b[49m\n\u001b[0;32m   3580\u001b[0m \u001b[43m        \u001b[49m\u001b[43mscalex\u001b[49m\u001b[38;5;241;43m=\u001b[39;49m\u001b[43mscalex\u001b[49m\u001b[43m,\u001b[49m\n\u001b[0;32m   3581\u001b[0m \u001b[43m        \u001b[49m\u001b[43mscaley\u001b[49m\u001b[38;5;241;43m=\u001b[39;49m\u001b[43mscaley\u001b[49m\u001b[43m,\u001b[49m\n\u001b[0;32m   3582\u001b[0m \u001b[43m        \u001b[49m\u001b[38;5;241;43m*\u001b[39;49m\u001b[38;5;241;43m*\u001b[39;49m\u001b[43m(\u001b[49m\u001b[43m{\u001b[49m\u001b[38;5;124;43m\"\u001b[39;49m\u001b[38;5;124;43mdata\u001b[39;49m\u001b[38;5;124;43m\"\u001b[39;49m\u001b[43m:\u001b[49m\u001b[43m \u001b[49m\u001b[43mdata\u001b[49m\u001b[43m}\u001b[49m\u001b[43m \u001b[49m\u001b[38;5;28;43;01mif\u001b[39;49;00m\u001b[43m \u001b[49m\u001b[43mdata\u001b[49m\u001b[43m \u001b[49m\u001b[38;5;129;43;01mis\u001b[39;49;00m\u001b[43m \u001b[49m\u001b[38;5;129;43;01mnot\u001b[39;49;00m\u001b[43m \u001b[49m\u001b[38;5;28;43;01mNone\u001b[39;49;00m\u001b[43m \u001b[49m\u001b[38;5;28;43;01melse\u001b[39;49;00m\u001b[43m \u001b[49m\u001b[43m{\u001b[49m\u001b[43m}\u001b[49m\u001b[43m)\u001b[49m\u001b[43m,\u001b[49m\n\u001b[0;32m   3583\u001b[0m \u001b[43m        \u001b[49m\u001b[38;5;241;43m*\u001b[39;49m\u001b[38;5;241;43m*\u001b[39;49m\u001b[43mkwargs\u001b[49m\u001b[43m,\u001b[49m\n\u001b[0;32m   3584\u001b[0m \u001b[43m    \u001b[49m\u001b[43m)\u001b[49m\n",
      "File \u001b[1;32mc:\\Users\\Alex\\AppData\\Local\\Programs\\Python\\Python312\\Lib\\site-packages\\matplotlib\\axes\\_axes.py:1721\u001b[0m, in \u001b[0;36mAxes.plot\u001b[1;34m(self, scalex, scaley, data, *args, **kwargs)\u001b[0m\n\u001b[0;32m   1478\u001b[0m \u001b[38;5;250m\u001b[39m\u001b[38;5;124;03m\"\"\"\u001b[39;00m\n\u001b[0;32m   1479\u001b[0m \u001b[38;5;124;03mPlot y versus x as lines and/or markers.\u001b[39;00m\n\u001b[0;32m   1480\u001b[0m \n\u001b[1;32m   (...)\u001b[0m\n\u001b[0;32m   1718\u001b[0m \u001b[38;5;124;03m(``'green'``) or hex strings (``'#008000'``).\u001b[39;00m\n\u001b[0;32m   1719\u001b[0m \u001b[38;5;124;03m\"\"\"\u001b[39;00m\n\u001b[0;32m   1720\u001b[0m kwargs \u001b[38;5;241m=\u001b[39m cbook\u001b[38;5;241m.\u001b[39mnormalize_kwargs(kwargs, mlines\u001b[38;5;241m.\u001b[39mLine2D)\n\u001b[1;32m-> 1721\u001b[0m lines \u001b[38;5;241m=\u001b[39m [\u001b[38;5;241m*\u001b[39m\u001b[38;5;28mself\u001b[39m\u001b[38;5;241m.\u001b[39m_get_lines(\u001b[38;5;28mself\u001b[39m, \u001b[38;5;241m*\u001b[39margs, data\u001b[38;5;241m=\u001b[39mdata, \u001b[38;5;241m*\u001b[39m\u001b[38;5;241m*\u001b[39mkwargs)]\n\u001b[0;32m   1722\u001b[0m \u001b[38;5;28;01mfor\u001b[39;00m line \u001b[38;5;129;01min\u001b[39;00m lines:\n\u001b[0;32m   1723\u001b[0m     \u001b[38;5;28mself\u001b[39m\u001b[38;5;241m.\u001b[39madd_line(line)\n",
      "File \u001b[1;32mc:\\Users\\Alex\\AppData\\Local\\Programs\\Python\\Python312\\Lib\\site-packages\\matplotlib\\axes\\_base.py:303\u001b[0m, in \u001b[0;36m_process_plot_var_args.__call__\u001b[1;34m(self, axes, data, *args, **kwargs)\u001b[0m\n\u001b[0;32m    301\u001b[0m     this \u001b[38;5;241m+\u001b[39m\u001b[38;5;241m=\u001b[39m args[\u001b[38;5;241m0\u001b[39m],\n\u001b[0;32m    302\u001b[0m     args \u001b[38;5;241m=\u001b[39m args[\u001b[38;5;241m1\u001b[39m:]\n\u001b[1;32m--> 303\u001b[0m \u001b[38;5;28;01myield from\u001b[39;00m \u001b[38;5;28;43mself\u001b[39;49m\u001b[38;5;241;43m.\u001b[39;49m\u001b[43m_plot_args\u001b[49m\u001b[43m(\u001b[49m\n\u001b[0;32m    304\u001b[0m \u001b[43m    \u001b[49m\u001b[43maxes\u001b[49m\u001b[43m,\u001b[49m\u001b[43m \u001b[49m\u001b[43mthis\u001b[49m\u001b[43m,\u001b[49m\u001b[43m \u001b[49m\u001b[43mkwargs\u001b[49m\u001b[43m,\u001b[49m\u001b[43m \u001b[49m\u001b[43mambiguous_fmt_datakey\u001b[49m\u001b[38;5;241;43m=\u001b[39;49m\u001b[43mambiguous_fmt_datakey\u001b[49m\u001b[43m)\u001b[49m\n",
      "File \u001b[1;32mc:\\Users\\Alex\\AppData\\Local\\Programs\\Python\\Python312\\Lib\\site-packages\\matplotlib\\axes\\_base.py:499\u001b[0m, in \u001b[0;36m_process_plot_var_args._plot_args\u001b[1;34m(self, axes, tup, kwargs, return_kwargs, ambiguous_fmt_datakey)\u001b[0m\n\u001b[0;32m    496\u001b[0m     axes\u001b[38;5;241m.\u001b[39myaxis\u001b[38;5;241m.\u001b[39mupdate_units(y)\n\u001b[0;32m    498\u001b[0m \u001b[38;5;28;01mif\u001b[39;00m x\u001b[38;5;241m.\u001b[39mshape[\u001b[38;5;241m0\u001b[39m] \u001b[38;5;241m!=\u001b[39m y\u001b[38;5;241m.\u001b[39mshape[\u001b[38;5;241m0\u001b[39m]:\n\u001b[1;32m--> 499\u001b[0m     \u001b[38;5;28;01mraise\u001b[39;00m \u001b[38;5;167;01mValueError\u001b[39;00m(\u001b[38;5;124mf\u001b[39m\u001b[38;5;124m\"\u001b[39m\u001b[38;5;124mx and y must have same first dimension, but \u001b[39m\u001b[38;5;124m\"\u001b[39m\n\u001b[0;32m    500\u001b[0m                      \u001b[38;5;124mf\u001b[39m\u001b[38;5;124m\"\u001b[39m\u001b[38;5;124mhave shapes \u001b[39m\u001b[38;5;132;01m{\u001b[39;00mx\u001b[38;5;241m.\u001b[39mshape\u001b[38;5;132;01m}\u001b[39;00m\u001b[38;5;124m and \u001b[39m\u001b[38;5;132;01m{\u001b[39;00my\u001b[38;5;241m.\u001b[39mshape\u001b[38;5;132;01m}\u001b[39;00m\u001b[38;5;124m\"\u001b[39m)\n\u001b[0;32m    501\u001b[0m \u001b[38;5;28;01mif\u001b[39;00m x\u001b[38;5;241m.\u001b[39mndim \u001b[38;5;241m>\u001b[39m \u001b[38;5;241m2\u001b[39m \u001b[38;5;129;01mor\u001b[39;00m y\u001b[38;5;241m.\u001b[39mndim \u001b[38;5;241m>\u001b[39m \u001b[38;5;241m2\u001b[39m:\n\u001b[0;32m    502\u001b[0m     \u001b[38;5;28;01mraise\u001b[39;00m \u001b[38;5;167;01mValueError\u001b[39;00m(\u001b[38;5;124mf\u001b[39m\u001b[38;5;124m\"\u001b[39m\u001b[38;5;124mx and y can be no greater than 2D, but have \u001b[39m\u001b[38;5;124m\"\u001b[39m\n\u001b[0;32m    503\u001b[0m                      \u001b[38;5;124mf\u001b[39m\u001b[38;5;124m\"\u001b[39m\u001b[38;5;124mshapes \u001b[39m\u001b[38;5;132;01m{\u001b[39;00mx\u001b[38;5;241m.\u001b[39mshape\u001b[38;5;132;01m}\u001b[39;00m\u001b[38;5;124m and \u001b[39m\u001b[38;5;132;01m{\u001b[39;00my\u001b[38;5;241m.\u001b[39mshape\u001b[38;5;132;01m}\u001b[39;00m\u001b[38;5;124m\"\u001b[39m)\n",
      "\u001b[1;31mValueError\u001b[0m: x and y must have same first dimension, but have shapes (2,) and (6,)"
     ]
    },
    {
     "data": {
      "image/png": "[encoded data removed]",
      "text/plain": [
       "<Figure size 1000x1500 with 4 Axes>"
      ]
     },
     "metadata": {},
     "output_type": "display_data"
    }
   ],
   "source": [
    "### Raw singular values\n",
    "plt.plot(component_idx, S, label='Singular Values of $$X$$', color='darkblue', linewidth=3)\n",
    "plt.grid()\n",
    "plt.xlabel(\"Rank, $k$\")\n",
    "plt.ylabel('$S_k$', color='darkblue')\n",
    "plt.tick_params(axis='y', labelcolor='darkblue')\n",
    "plt.title('Singular Values, $S_k$')\n",
    "\n",
    "### log(singular values)\n",
    "twax = plt.gca().twinx()  # twin axes that shares the same x-axis\n",
    "twax.plot(component_idx, np.log(S), color='red', linewidth=3)\n",
    "plt.ylabel('$\\log(S_k)$\\n', color='red', rotation=270)\n",
    "plt.tick_params(axis='y', labelcolor='red')\n",
    "plt.ylim([-6, 6])\n",
    "\n",
    "## Information retained as function of rank\n",
    "plt.sca(axs[2])\n",
    "plt.plot(component_idx, info_retained, color='darkgreen', linewidth=3)\n",
    "plt.xlim(0, n_components)\n",
    "plt.ylim([0, 105])\n",
    "plt.xlabel(\"Rank, $k$\")\n",
    "plt.grid()\n",
    "plt.title('Cumulative % of Information About $X$\\nCarried by Singular Vectors')"
   ]
  },
  {
   "attachments": {},
   "cell_type": "markdown",
   "metadata": {},
   "source": [
    "### Your observation and remarks: (double click this block to modify)"
   ]
  },
  {
   "attachments": {},
   "cell_type": "markdown",
   "metadata": {},
   "source": [
    "Illustrate the compressed image, with selected ranks varying from 1 to 500 (for example, you can take ranks equaling to 1, 5, 10, 100, 200, 300)\n",
    "The constructed image is still calculated by multiplying U S and V (transpose), but with rank number limited.\n"
   ]
  },
  {
   "cell_type": "code",
   "execution_count": null,
   "metadata": {},
   "outputs": [],
   "source": [
    "plt.figure(figsize=(12, 20))\n",
    "\n",
    "for i, rank in enumerate([1, 5, 10, 100, 200, 300]):\n",
    "    \n",
    "    # 5. Construct the image by low rank SVD components, with rank value given\n",
    "    img_compressed = \n",
    "\n",
    "    # Plot the image\n",
    "    plt.subplot(3, 2, i + 1)\n",
    "    plt.title(f\"Rank {rank}\")\n",
    "    plt.imshow(img_compressed, cmap=\"gray\")\n",
    "    plt.axis(\"off\")"
   ]
  },
  {
   "attachments": {},
   "cell_type": "markdown",
   "metadata": {},
   "source": [
    "You may find that the quality of the compressed image is acceptable with a relatively low rank. This phenomenon is consistent with the plot of cumulative of information with low rank.\n",
    "Now, calculate the compression rate with a given rank.\n",
    "\n",
    "The compression rate is simply calculated by the whole size of matrix stored (U,S,V) divesed by the size of the matrix representing the original image"
   ]
  },
  {
   "cell_type": "code",
   "execution_count": null,
   "metadata": {},
   "outputs": [],
   "source": [
    "# 6. Write your method of compressing_rate(A, r), then calculate the compression rate with the rank selected above.\n",
    "def compressing_rate(A, r):\n",
    "    \"\"\"\n",
    "    Calculate the compressing rate of matrix A by SVD with rank limited to r.\n",
    "\n",
    "    Args:\n",
    "        A: ndarray, the original matrix\n",
    "        r: integer, the value of rank\n",
    "    Returns:\n",
    "        cr: compressing_rate\n",
    "    \"\"\"\n",
    "\n",
    "    return cr"
   ]
  }
 ],
 "metadata": {
  "kernelspec": {
   "display_name": "Python 3",
   "language": "python",
   "name": "python3"
  },
  "language_info": {
   "codemirror_mode": {
    "name": "ipython",
    "version": 3
   },
   "file_extension": ".py",
   "mimetype": "text/x-python",
   "name": "python",
   "nbconvert_exporter": "python",
   "pygments_lexer": "ipython3",
   "version": "3.12.1"
  },
  "orig_nbformat": 4
 },
 "nbformat": 4,
 "nbformat_minor": 2
}
